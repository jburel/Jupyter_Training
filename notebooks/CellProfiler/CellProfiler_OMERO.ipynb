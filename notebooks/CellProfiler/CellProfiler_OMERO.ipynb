{
 "cells": [
  {
   "cell_type": "markdown",
   "metadata": {},
   "source": [
    "* Jupyter notebook which highlights the integration of OMERO with Cell Profiler\n",
    "* Example workflow obtained from : http://cellprofiler.org/examples/#FruitFlyCells"
   ]
  },
  {
   "cell_type": "markdown",
   "metadata": {},
   "source": [
    "### Workflow Summary\n",
    "![Overview](CellProfilerWorkflow.png)"
   ]
  },
  {
   "cell_type": "markdown",
   "metadata": {},
   "source": [
    "### Import Packages"
   ]
  },
  {
   "cell_type": "code",
   "execution_count": null,
   "metadata": {},
   "outputs": [],
   "source": [
    "# %tb\n",
    "\n",
    "# Import Cell Profiler Dependencies\n",
    "import cellprofiler\n",
    "import cellprofiler.preferences as cpprefs\n",
    "import cellprofiler.module as cpm\n",
    "import cellprofiler.pipeline as cpp\n",
    "cpprefs.set_headless()\n",
    "\n",
    "# Inject Image module used to inject OMERO image planes into Cell Profiler Pipeline\n",
    "from cellprofiler.modules.injectimage import InjectImage\n",
    "\n",
    "# Import OMERO Python BlitzGateway\n",
    "from omero.gateway import BlitzGateway\n",
    "\n",
    "# Import Numpy\n",
    "import numpy as np\n",
    "\n",
    "# Import Python System Packages\n",
    "import os\n",
    "import tempfile\n",
    "import pandas\n",
    "import warnings"
   ]
  },
  {
   "cell_type": "markdown",
   "metadata": {},
   "source": [
    "### Set Cell Output Directory"
   ]
  },
  {
   "cell_type": "code",
   "execution_count": null,
   "metadata": {},
   "outputs": [],
   "source": [
    "new_output_directory = os.path.normcase(tempfile.mkdtemp())\n",
    "cpprefs.set_default_output_directory(new_output_directory)"
   ]
  },
  {
   "cell_type": "markdown",
   "metadata": {},
   "source": [
    "### OMERO Credentials"
   ]
  },
  {
   "cell_type": "code",
   "execution_count": null,
   "metadata": {},
   "outputs": [],
   "source": [
    "HOST = 'outreach.openmicroscopy.org'\n",
    "# To be modified\n",
    "USERNAME = 'username'\n",
    "PASSWORD = 'password'\n",
    "PORT = 4064\n",
    "conn = BlitzGateway(USERNAME, PASSWORD, host=HOST, port=PORT)\n",
    "conn.connect()"
   ]
  },
  {
   "cell_type": "markdown",
   "metadata": {},
   "source": [
    "### Fetch OMERO Dataset that contains the Images to be analysed"
   ]
  },
  {
   "cell_type": "code",
   "execution_count": null,
   "metadata": {},
   "outputs": [],
   "source": [
    "# To be modified\n",
    "datasetid = 602\n",
    "dataset = conn.getObject(\"Dataset\", datasetid)\n",
    "print 'Dataset Name: ',dataset.getName()"
   ]
  },
  {
   "cell_type": "markdown",
   "metadata": {},
   "source": [
    "### Load Cell Profiler Pipeline\n",
    "\n",
    "![Overview](CellProfilerPipeline.png)"
   ]
  },
  {
   "cell_type": "code",
   "execution_count": null,
   "metadata": {},
   "outputs": [],
   "source": [
    "pipeline = cpp.Pipeline()\n",
    "pipeline.load(\"/notebooks/notebooks/CellProfiler/ExampleFly/ExampleFly.cppipe\")\n",
    "for module in pipeline.modules():\n",
    "    print  module.module_name"
   ]
  },
  {
   "cell_type": "markdown",
   "metadata": {},
   "source": [
    "### Run Cell Profiler Pipeline on the OMERO Images"
   ]
  },
  {
   "cell_type": "code",
   "execution_count": null,
   "metadata": {},
   "outputs": [],
   "source": [
    "warnings.filterwarnings('ignore')\n",
    "\n",
    "Nuclei = pandas.DataFrame()\n",
    "Cells = pandas.DataFrame()\n",
    "Cytoplasm = pandas.DataFrame()\n",
    "Image = pandas.DataFrame()\n",
    "\n",
    "for image in dataset.listChildren():\n",
    "\n",
    "    pixels = image.getPrimaryPixels()\n",
    "    size_c = image.getSizeC()\n",
    "    pipeline_copy = pipeline.copy()\n",
    "    for c in range(0,size_c):\n",
    "        \n",
    "        plane = pixels.getPlane(0, c, 0)\n",
    "        image_name = image.getName()\n",
    "\n",
    "        if c == 0:\n",
    "            Image_Name = 'OrigBlue'\n",
    "        if c == 1:\n",
    "            Image_Name = 'OrigGreen'\n",
    "        if c == 2:\n",
    "            Image_Name = 'OrigRed'\n",
    "\n",
    "        inject_image_module = InjectImage(Image_Name, plane)\n",
    "        inject_image_module.set_module_num(1)\n",
    "        pipeline_copy.add_module(inject_image_module)\n",
    "    \n",
    "    for i in [1,2,3,4]:\n",
    "        pipeline_copy.remove_module(pipeline_copy.modules()[size_c].module_num)\n",
    "\n",
    "    # print pipeline.modules()\n",
    "    m = pipeline_copy.run();\n",
    "    \n",
    "    nuc_csv = pandas.read_csv(new_output_directory + '/Nuclei.csv')\n",
    "    nuc_csv.ImageNumber = image.getName()\n",
    "    Nuclei = Nuclei.append(nuc_csv)\n",
    "    \n",
    "    cel_csv = pandas.read_csv(new_output_directory + '/Cells.csv')\n",
    "    cel_csv.ImageNumber = image.getName()\n",
    "    Cells = Cells.append(cel_csv)\n",
    "    \n",
    "    cyto_csv = pandas.read_csv(new_output_directory + '/Cytoplasm.csv')\n",
    "    cyto_csv.ImageNumber = image.getName()\n",
    "    Cytoplasm = Cytoplasm.append(cyto_csv)\n",
    "    \n",
    "    image_csv = pandas.read_csv(new_output_directory + '/Image.csv')\n",
    "    image_csv.ImageNumber = image.getName()\n",
    "    Image = Image.append(image_csv)\n",
    "\n",
    "for module in pipeline_copy.modules():\n",
    "    print  module.module_name"
   ]
  },
  {
   "cell_type": "markdown",
   "metadata": {},
   "source": [
    "## Results obtained as CSV from Cell Profiler"
   ]
  },
  {
   "cell_type": "markdown",
   "metadata": {},
   "source": [
    "### Measurements (Nuclei)"
   ]
  },
  {
   "cell_type": "code",
   "execution_count": null,
   "metadata": {},
   "outputs": [],
   "source": [
    "Nuclei.head()"
   ]
  },
  {
   "cell_type": "markdown",
   "metadata": {},
   "source": [
    "### Measurements (Cells)"
   ]
  },
  {
   "cell_type": "code",
   "execution_count": null,
   "metadata": {},
   "outputs": [],
   "source": [
    "Cells.head()"
   ]
  },
  {
   "cell_type": "markdown",
   "metadata": {},
   "source": [
    "### Measurements (Cytoplasm)"
   ]
  },
  {
   "cell_type": "code",
   "execution_count": null,
   "metadata": {},
   "outputs": [],
   "source": [
    "Cytoplasm.head()"
   ]
  },
  {
   "cell_type": "markdown",
   "metadata": {},
   "source": [
    "### Images (Summary)"
   ]
  },
  {
   "cell_type": "code",
   "execution_count": null,
   "metadata": {},
   "outputs": [],
   "source": [
    "Image.head()"
   ]
  },
  {
   "cell_type": "markdown",
   "metadata": {},
   "source": [
    "### Push Results back to OMERO"
   ]
  },
  {
   "cell_type": "code",
   "execution_count": null,
   "metadata": {},
   "outputs": [],
   "source": [
    "import glob\n",
    "\n",
    "for file_to_upload in glob.glob(new_output_directory + '/*.csv'):\n",
    "    \n",
    "    if file_to_upload.endswith('Nuclei.csv'):\n",
    "        Nuclei.to_csv(file_to_upload)\n",
    "    elif file_to_upload.endswith('Cells.csv'):\n",
    "        Cells.to_csv(file_to_upload)\n",
    "    elif file_to_upload.endswith('Cytoplasm.csv'):\n",
    "        Cytoplasm.to_csv(file_to_upload)\n",
    "    elif file_to_upload.endswith('Image.csv'):\n",
    "        Image.to_csv(file_to_upload)\n",
    "    \n",
    "    # create the original file and file annotation (uploads the file etc.)\n",
    "    namespace = \"cambridge.training.meeting.demo\"\n",
    "    print \"\\nCreating an OriginalFile and FileAnnotation\"\n",
    "    file_ann = conn.createFileAnnfromLocalFile(file_to_upload, mimetype=\"text/plain\", ns=namespace, desc=None)\n",
    "    print \"Attaching FileAnnotation to Plate: \", \"File ID:\", file_ann.getId(), \\\n",
    "        \",\", file_ann.getFile().getName(), \"Size:\", file_ann.getFile().getSize()\n",
    "    dataset.linkAnnotation(file_ann)"
   ]
  },
  {
   "cell_type": "code",
   "execution_count": null,
   "metadata": {},
   "outputs": [],
   "source": []
  }
 ],
 "metadata": {
  "kernelspec": {
   "display_name": "OMERO Python 2",
   "language": "python",
   "name": "python2"
  },
  "language_info": {
   "codemirror_mode": {
    "name": "ipython",
    "version": 2
   },
   "file_extension": ".py",
   "mimetype": "text/x-python",
   "name": "python",
   "nbconvert_exporter": "python",
   "pygments_lexer": "ipython2",
   "version": "2.7.14"
  }
 },
 "nbformat": 4,
 "nbformat_minor": 2
}
